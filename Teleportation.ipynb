{
 "cells": [
  {
   "cell_type": "code",
   "execution_count": 6,
   "metadata": {},
   "outputs": [
    {
     "name": "stdout",
     "output_type": "stream",
     "text": [
      "0.70711  |000>   0.70711  |011>   \n",
      "-------------------------------------------------------------------------------\n",
      "{'111': 249, '000': 257, '110': 227, '001': 291}\n",
      "===============================================================================\n",
      "1.0  |100>   \n"
     ]
    },
    {
     "data": {
      "text/html": [
       "<pre style=\"word-wrap: normal;white-space: pre;line-height: 15px;\">                   ┌─────────┐ ░         ┌───┐┌─┐   \n",
       "q4_0: |0>──────────┤ U1(0.5) ├─░──────■──┤ H ├┤M├───\n",
       "         ┌───┐     └─────────┘ ░    ┌─┴─┐└───┘└╥┘┌─┐\n",
       "q4_1: |0>┤ H ├──■──────────────░────┤ X ├──────╫─┤M├\n",
       "         └───┘┌─┴─┐            ░ ┌─┐└───┘      ║ └╥┘\n",
       "q4_2: |0>─────┤ X ├────────────░─┤M├───────────╫──╫─\n",
       "              └───┘            ░ └╥┘           ║  ║ \n",
       " c4_0: 0 ═════════════════════════╬════════════╩══╬═\n",
       "                                  ║               ║ \n",
       " c4_1: 0 ═════════════════════════╬═══════════════╩═\n",
       "                                  ║                 \n",
       " c4_2: 0 ═════════════════════════╩═════════════════\n",
       "                                                    </pre>"
      ],
      "text/plain": [
       "<qiskit.tools.visualization._text.TextDrawing at 0x1f03dc79e48>"
      ]
     },
     "execution_count": 6,
     "metadata": {},
     "output_type": "execute_result"
    }
   ],
   "source": [
    "# -*- coding: utf-8 -*-\n",
    "\n",
    "# Copyright 2018, IBM.\n",
    "#\n",
    "# This source code is licensed under the Apache License, Version 2.0\n",
    "\n",
    "from qiskit import QuantumRegister, ClassicalRegister, QuantumCircuit, Aer, execute\n",
    "from qiskit.tools.visualization import circuit_drawer \n",
    "from numpy import pi\n",
    "import numpy as np\n",
    "import math as m\n",
    "import Our_Qiskit_Functions as oq\n",
    "\n",
    "#Initialize backends\n",
    "S_simulator = Aer.backends(name='statevector_simulator')[0]\n",
    "M_simulator = Aer.backends(name='qasm_simulator')[0]\n",
    "\n",
    "# Create a Quantum Register and classical registers with 3 qubits and 3 classical bits.\n",
    "q = QuantumRegister(3)\n",
    "c = ClassicalRegister(3)\n",
    "qc = QuantumCircuit(q, c)\n",
    "\n",
    "# Prepare an initial state using a single unitary\n",
    "qc.u1(0.5, q[0])\n",
    "\n",
    " # Prepare an entangled pair using qubit ② and qubit ③\n",
    "qc.h(q[1])\n",
    "qc.cx(q[1], q[2])\n",
    "oq.Wavefunction(qc)\n",
    "# Barrier to prevent gate reordering for optimization\n",
    "qc.barrier(q)\n",
    "\n",
    "# Perform a CNOT between qubit ① and qubit ②\n",
    "qc.cx(q[0], q[1])\n",
    "\n",
    "# Measure qubit ② in the computational basis\n",
    "qc.measure(q[1], c[1])\n",
    "\n",
    "# Measure qubit ① in the + - basis\n",
    "qc.h(q[0])\n",
    "qc.measure(q[0], c[0])\n",
    "\n",
    "# If needed Perform a phase correction to qubit ③\n",
    "if c[0] == 1:\n",
    "    qc.z(q[2])\n",
    "\n",
    "# If needed Perform a bit flip correction to qubit ③\n",
    "if c[1] == 1:\n",
    "    qc.x(q[2])\n",
    "\n",
    "\n",
    "qc.measure(q[2], c[2])\n",
    "\n",
    "\n",
    "# Compile and run the Quantum circuit on a simulator backend\n",
    "job_sim = execute(qc, M_simulator)\n",
    "sim_result = job_sim.result()\n",
    "#print(sim_result)\n",
    "print(\"-------------------------------------------------------------------------------\")\n",
    "print(sim_result.get_counts(qc))\n",
    "print(\"===============================================================================\")\n",
    "oq.Wavefunction(qc)\n",
    "qc.draw()"
   ]
  }
 ],
 "metadata": {
  "kernelspec": {
   "display_name": "Python 3",
   "language": "python",
   "name": "python3"
  },
  "language_info": {
   "codemirror_mode": {
    "name": "ipython",
    "version": 3
   },
   "file_extension": ".py",
   "mimetype": "text/x-python",
   "name": "python",
   "nbconvert_exporter": "python",
   "pygments_lexer": "ipython3",
   "version": "3.7.3"
  }
 },
 "nbformat": 4,
 "nbformat_minor": 2
}
